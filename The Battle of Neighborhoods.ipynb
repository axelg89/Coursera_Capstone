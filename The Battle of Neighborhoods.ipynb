{
    "cells": [
        {
            "cell_type": "markdown",
            "metadata": {
                "collapsed": true
            },
            "source": "# Final assignment: The Battle of Vegan neighborhoods "
        },
        {
            "cell_type": "markdown",
            "metadata": {},
            "source": "## Week 4 - Description of project to be continued and finalized in week 5\n#### A description of the problem and a discussion of the background. (15 marks)\n\n##### Background \nLiving in Edinburgh since two years I'm just now getting knowledgeable about where to shop for nice vegan food. There exist several vegan grocery stores within the Edinburgh city limits such as \"New Leaf\", \"The refillery\" and \"Easter Greens\". Veganism is quiet large in this area and most people know it so of course it makes sence to have nice grociery stores. However the vegan population is still <10% and as a results the stores that pop-up are quiet small and don't have marketing budgets in comparison to big brands such as Tesco and Sainsburys which makes it harder to shop as no marketing material is sent out. \n\n##### Problem formulation \nA likely assumption is that areas with vegan venues often attract or convert vegans why these areas likely have more vegans. My problem formulation is: Can we based on data of different kind of venues cluster the Edinburgh city area to make targeted marketing efforts easier for Vegan grocery stores? \n"
        },
        {
            "cell_type": "markdown",
            "metadata": {},
            "source": "#### A description of the data and how it will be used to solve the problem. (15 marks)\n- I'll use data from foursquare to find venues in the Edinburgh areas which have the keyword \"Vegan\" \n- I'll use google maps to extract coordinates for mentioned grocery stores that I'm aware of that are very vegan \n- I'll use folium maps to get the interactive geographical data and to make it easy for the observer of the report (a non data scientist grocety store owner) to see the results \n- I'll use pre-existing librarys in Python to conduct the KNN analysis etc"
        },
        {
            "cell_type": "code",
            "execution_count": null,
            "metadata": {},
            "outputs": [],
            "source": ""
        }
    ],
    "metadata": {
        "kernelspec": {
            "display_name": "Python 3.6",
            "language": "python",
            "name": "python3"
        },
        "language_info": {
            "codemirror_mode": {
                "name": "ipython",
                "version": 3
            },
            "file_extension": ".py",
            "mimetype": "text/x-python",
            "name": "python",
            "nbconvert_exporter": "python",
            "pygments_lexer": "ipython3",
            "version": "3.6.9"
        }
    },
    "nbformat": 4,
    "nbformat_minor": 1
}